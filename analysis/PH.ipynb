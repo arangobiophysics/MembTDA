{
 "cells": [
  {
   "cell_type": "code",
   "execution_count": 1,
   "id": "4a98e193",
   "metadata": {},
   "outputs": [],
   "source": [
    "import MDAnalysis as mda\n",
    "\n",
    "import nglview as nv"
   ]
  },
  {
   "cell_type": "code",
   "execution_count": 25,
   "id": "7bf86a0e",
   "metadata": {},
   "outputs": [],
   "source": [
    "u = mda.Universe(\"/Scr/arango/Sobolev-Hyun/2-MembTempredict/DPPC_280/namd/step5_input.psf\", \"/Scr/arango/Sobolev-Hyun/2-MembTempredict/DPPC_280/namd/step6.6_equilibration.dcd\")"
   ]
  },
  {
   "cell_type": "code",
   "execution_count": null,
   "id": "d4c223b3",
   "metadata": {},
   "outputs": [],
   "source": []
  },
  {
   "cell_type": "code",
   "execution_count": 38,
   "id": "ce6837d2",
   "metadata": {},
   "outputs": [
    {
     "data": {
      "text/plain": [
       "<MDAnalysis.coordinates.base.FrameIteratorSliced at 0x7f7a5ad791d0>"
      ]
     },
     "execution_count": 38,
     "metadata": {},
     "output_type": "execute_result"
    }
   ],
   "source": [
    "#for ts in u.trajectory:\n",
    "#    print( u.trajectory.ts.dimensions)\n",
    "u.trajectory[-2:]"
   ]
  },
  {
   "cell_type": "code",
   "execution_count": 43,
   "id": "99c16da5",
   "metadata": {},
   "outputs": [],
   "source": [
    "stri = \"prop x < 0 and prop y > 0\"\n",
    "sel1 = u.select_atoms(\"not name H* and not name O* and not name N* and same residue as (resname DPPC and name C22 C23 C24 C25 C26 C27 C28 C29 C210 C211 C212 C213 C214 C215 C216 C32 C33 C34 C35 C36 C37 C38 C39 C310 C311 C312 C313 C314 C315 C316) and \"+stri)"
   ]
  },
  {
   "cell_type": "code",
   "execution_count": 44,
   "id": "f6d482d7",
   "metadata": {},
   "outputs": [
    {
     "name": "stderr",
     "output_type": "stream",
     "text": [
      "/Projects/arango/anaconda3/lib/python3.6/site-packages/MDAnalysis/core/topologyattrs.py:2011: VisibleDeprecationWarning: Creating an ndarray from ragged nested sequences (which is a list-or-tuple of lists-or-tuples-or ndarrays with different lengths or shapes) is deprecated. If you meant to do this, you must specify 'dtype=object' when creating the ndarray\n",
      "  np.array(sorted(unique_bonds)), 4)\n"
     ]
    }
   ],
   "source": [
    "stri = \"prop x > 0 and prop y > 0\"\n",
    "sel2 = u.select_atoms(\"not name H* and same fragment as (resname DPPC and name C22 C23 C24 C25 C26 C27 C28 C29 C210 C211 C212 C213 C214 C215 C216 C32 C33 C34 C35 C36 C37 C38 C39 C310 C311 C312 C313 C314 C315 C316) and \"+stri)"
   ]
  },
  {
   "cell_type": "code",
   "execution_count": 45,
   "id": "30eda79a",
   "metadata": {},
   "outputs": [],
   "source": [
    "stri = \"prop x < 0 and prop y < 0\"\n",
    "sel3 = u.select_atoms(\"not name H* and same fragment as (resname DPPC and name C22 C23 C24 C25 C26 C27 C28 C29 C210 C211 C212 C213 C214 C215 C216 C32 C33 C34 C35 C36 C37 C38 C39 C310 C311 C312 C313 C314 C315 C316) and \"+stri)"
   ]
  },
  {
   "cell_type": "code",
   "execution_count": 46,
   "id": "559d7892",
   "metadata": {},
   "outputs": [],
   "source": [
    "stri = \"prop x > 0 and prop y < 0\"\n",
    "sel4 = u.select_atoms(\"not name H* and same fragment as (resname DPPC and name C22 C23 C24 C25 C26 C27 C28 C29 C210 C211 C212 C213 C214 C215 C216 C32 C33 C34 C35 C36 C37 C38 C39 C310 C311 C312 C313 C314 C315 C316) and \"+stri)"
   ]
  },
  {
   "cell_type": "code",
   "execution_count": 47,
   "id": "a6f31570",
   "metadata": {},
   "outputs": [],
   "source": [
    "\n",
    "sel4 = u.select_atoms(\"not name H* and same fragment as (resname DPPC and name C22 C23 C24 C25 C26 C27 C28 C29 C210 C211 C212 C213 C214 C215 C216 C32 C33 C34 C35 C36 C37 C38 C39 C310 C311 C312 C313 C314 C315 C316)\")"
   ]
  },
  {
   "cell_type": "code",
   "execution_count": 50,
   "id": "739d22af",
   "metadata": {},
   "outputs": [
    {
     "name": "stderr",
     "output_type": "stream",
     "text": [
      "/Projects/arango/anaconda3/lib/python3.6/site-packages/MDAnalysis/coordinates/PDB.py:1028: UserWarning: Found no information for attr: 'altLocs' Using default value of ' '\n",
      "  \"\".format(attrname, default))\n",
      "/Projects/arango/anaconda3/lib/python3.6/site-packages/MDAnalysis/coordinates/PDB.py:1028: UserWarning: Found no information for attr: 'icodes' Using default value of ' '\n",
      "  \"\".format(attrname, default))\n",
      "/Projects/arango/anaconda3/lib/python3.6/site-packages/MDAnalysis/coordinates/PDB.py:1028: UserWarning: Found no information for attr: 'occupancies' Using default value of '1.0'\n",
      "  \"\".format(attrname, default))\n",
      "/Projects/arango/anaconda3/lib/python3.6/site-packages/MDAnalysis/coordinates/PDB.py:1028: UserWarning: Found no information for attr: 'tempfactors' Using default value of '0.0'\n",
      "  \"\".format(attrname, default))\n",
      "/Projects/arango/anaconda3/lib/python3.6/site-packages/MDAnalysis/core/topologyattrs.py:2011: VisibleDeprecationWarning: Creating an ndarray from ragged nested sequences (which is a list-or-tuple of lists-or-tuples-or ndarrays with different lengths or shapes) is deprecated. If you meant to do this, you must specify 'dtype=object' when creating the ndarray\n",
      "  np.array(sorted(unique_bonds)), 4)\n"
     ]
    },
    {
     "data": {
      "application/vnd.jupyter.widget-view+json": {
       "model_id": "127d8ae8b9b24a55ab47e1dfbc037304",
       "version_major": 2,
       "version_minor": 0
      },
      "text/plain": [
       "NGLWidget(count=50)"
      ]
     },
     "metadata": {},
     "output_type": "display_data"
    }
   ],
   "source": [
    "view = nv.show_mdanalysis(sel1)\n",
    "view"
   ]
  },
  {
   "cell_type": "code",
   "execution_count": 49,
   "id": "d395240b",
   "metadata": {},
   "outputs": [
    {
     "name": "stdout",
     "output_type": "stream",
     "text": [
      "/usr/bin/sh: conda: command not found\r\n"
     ]
    }
   ],
   "source": [
    "!conda list\n"
   ]
  },
  {
   "cell_type": "code",
   "execution_count": 9,
   "id": "1fa842f1",
   "metadata": {},
   "outputs": [
    {
     "data": {
      "text/plain": [
       "'1.0.0'"
      ]
     },
     "execution_count": 9,
     "metadata": {},
     "output_type": "execute_result"
    }
   ],
   "source": [
    "mda.__version__"
   ]
  },
  {
   "cell_type": "code",
   "execution_count": 23,
   "id": "5c8c7ba9",
   "metadata": {},
   "outputs": [
    {
     "data": {
      "text/plain": [
       "2788"
      ]
     },
     "execution_count": 23,
     "metadata": {},
     "output_type": "execute_result"
    }
   ],
   "source": [
    "len(sel1)"
   ]
  },
  {
   "cell_type": "code",
   "execution_count": null,
   "id": "87f12ede",
   "metadata": {},
   "outputs": [],
   "source": []
  }
 ],
 "metadata": {
  "kernelspec": {
   "display_name": "Python 3",
   "language": "python",
   "name": "python3"
  },
  "language_info": {
   "codemirror_mode": {
    "name": "ipython",
    "version": 3
   },
   "file_extension": ".py",
   "mimetype": "text/x-python",
   "name": "python",
   "nbconvert_exporter": "python",
   "pygments_lexer": "ipython3",
   "version": "3.6.13"
  }
 },
 "nbformat": 4,
 "nbformat_minor": 5
}
